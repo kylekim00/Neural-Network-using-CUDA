{
 "cells": [
  {
   "cell_type": "code",
   "execution_count": 76,
   "metadata": {},
   "outputs": [
    {
     "data": {
      "text/plain": [
       "True"
      ]
     },
     "execution_count": 76,
     "metadata": {},
     "output_type": "execute_result"
    }
   ],
   "source": [
    "import torch\n",
    "num_tokens = 16\n",
    "model_dim = 8\n",
    "x_input = 8\n",
    "torch.cuda.is_available()"
   ]
  },
  {
   "cell_type": "code",
   "execution_count": 77,
   "metadata": {},
   "outputs": [],
   "source": [
    "Q = (0.01 * torch.arange(0, x_input * model_dim, 1)).reshape(x_input, model_dim)\n",
    "K = (0.01 * torch.arange(0, x_input * model_dim, 1)).reshape(x_input, model_dim)\n",
    "V = (0.01 * torch.arange(0, x_input * model_dim, 1)).reshape(x_input, model_dim)"
   ]
  },
  {
   "cell_type": "code",
   "execution_count": 78,
   "metadata": {},
   "outputs": [],
   "source": [
    "X = (0.01 * torch.arange(0, num_tokens * model_dim, 1)).reshape(num_tokens, model_dim)\n",
    "Q = torch.matmul(X, Q)\n",
    "K = torch.matmul(X, K)\n",
    "V = torch.matmul(X, V)\n",
    "S = torch.matmul(Q, K.T)"
   ]
  },
  {
   "cell_type": "code",
   "execution_count": 79,
   "metadata": {},
   "outputs": [
    {
     "data": {
      "text/plain": [
       "torch.Size([16, 16])"
      ]
     },
     "execution_count": 79,
     "metadata": {},
     "output_type": "execute_result"
    }
   ],
   "source": [
    "S.shape"
   ]
  },
  {
   "cell_type": "code",
   "execution_count": 80,
   "metadata": {},
   "outputs": [
    {
     "name": "stderr",
     "output_type": "stream",
     "text": [
      "/tmp/ipykernel_10260/684408600.py:1: UserWarning: Implicit dimension choice for softmax has been deprecated. Change the call to include dim=X as an argument.\n",
      "  S = torch.nn.Softmax()(S)\n"
     ]
    }
   ],
   "source": [
    "S = torch.nn.Softmax()(S)\n",
    "O = torch.matmul(S, V)"
   ]
  },
  {
   "cell_type": "code",
   "execution_count": 81,
   "metadata": {},
   "outputs": [
    {
     "data": {
      "text/plain": [
       "tensor([[2.1056, 2.1796, 2.2536, 2.3276, 2.4016, 2.4756, 2.5496, 2.6236],\n",
       "        [2.5405, 2.6300, 2.7196, 2.8091, 2.8986, 2.9882, 3.0777, 3.1672],\n",
       "        [2.6664, 2.7605, 2.8545, 2.9485, 3.0426, 3.1366, 3.2306, 3.3247],\n",
       "        [2.7203, 2.8162, 2.9122, 3.0081, 3.1041, 3.2000, 3.2960, 3.3919],\n",
       "        [2.7488, 2.8458, 2.9428, 3.0398, 3.1367, 3.2337, 3.3307, 3.4276],\n",
       "        [2.7658, 2.8634, 2.9610, 3.0586, 3.1561, 3.2537, 3.3513, 3.4489],\n",
       "        [2.7766, 2.8746, 2.9725, 3.0705, 3.1685, 3.2664, 3.3644, 3.4623],\n",
       "        [2.7837, 2.8819, 2.9802, 3.0784, 3.1766, 3.2748, 3.3730, 3.4712],\n",
       "        [2.7885, 2.8869, 2.9853, 3.0837, 3.1821, 3.2805, 3.3789, 3.4773],\n",
       "        [2.7919, 2.8904, 2.9889, 3.0874, 3.1859, 3.2844, 3.3829, 3.4815],\n",
       "        [2.7942, 2.8928, 2.9914, 3.0900, 3.1886, 3.2872, 3.3858, 3.4844],\n",
       "        [2.7959, 2.8945, 2.9932, 3.0918, 3.1905, 3.2891, 3.3878, 3.4864],\n",
       "        [2.7970, 2.8957, 2.9944, 3.0931, 3.1918, 3.2905, 3.3892, 3.4879],\n",
       "        [2.7979, 2.8966, 2.9953, 3.0940, 3.1928, 3.2915, 3.3902, 3.4889],\n",
       "        [2.7985, 2.8972, 2.9960, 3.0947, 3.1935, 3.2922, 3.3909, 3.4897],\n",
       "        [2.7989, 2.8977, 2.9964, 3.0952, 3.1939, 3.2927, 3.3915, 3.4902]])"
      ]
     },
     "execution_count": 81,
     "metadata": {},
     "output_type": "execute_result"
    }
   ],
   "source": [
    "O"
   ]
  },
  {
   "cell_type": "code",
   "execution_count": null,
   "metadata": {},
   "outputs": [],
   "source": []
  }
 ],
 "metadata": {
  "kernelspec": {
   "display_name": "kkh38",
   "language": "python",
   "name": "python3"
  },
  "language_info": {
   "codemirror_mode": {
    "name": "ipython",
    "version": 3
   },
   "file_extension": ".py",
   "mimetype": "text/x-python",
   "name": "python",
   "nbconvert_exporter": "python",
   "pygments_lexer": "ipython3",
   "version": "3.8.13"
  }
 },
 "nbformat": 4,
 "nbformat_minor": 2
}
