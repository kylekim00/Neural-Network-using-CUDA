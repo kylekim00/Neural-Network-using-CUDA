{
 "cells": [
  {
   "cell_type": "code",
   "execution_count": 1,
   "metadata": {},
   "outputs": [],
   "source": [
    "import numpy as np"
   ]
  },
  {
   "cell_type": "code",
   "execution_count": 2,
   "metadata": {},
   "outputs": [
    {
     "data": {
      "text/plain": [
       "7"
      ]
     },
     "execution_count": 2,
     "metadata": {},
     "output_type": "execute_result"
    }
   ],
   "source": [
    "in_Size = 16\n",
    "kernal_size = 3\n",
    "stride = 2\n",
    "out_channel = 3\n",
    "out_Size = (in_Size-kernal_size)//stride+1\n",
    "input = np.arange(in_Size**2, dtype=float).reshape((in_Size,in_Size))\n",
    "conv_input = np.zeros(((out_Size)**2, kernal_size**2))\n",
    "out_Size"
   ]
  },
  {
   "cell_type": "code",
   "execution_count": 3,
   "metadata": {},
   "outputs": [
    {
     "name": "stdout",
     "output_type": "stream",
     "text": [
      "input.shape :  (16, 16) \n",
      "conv_input.shape :  (49, 9)\n",
      "\n"
     ]
    }
   ],
   "source": [
    "print(\"input.shape : \",input.shape,\"\\nconv_input.shape : \" ,conv_input.shape, end=\"\\n\\n\")\n",
    "# print(\"-------------input----------------\\n\",input,\"\\n-------------conv_input----------------\\n\", res)"
   ]
  },
  {
   "cell_type": "code",
   "execution_count": 4,
   "metadata": {},
   "outputs": [],
   "source": [
    "for i in range(out_Size):\n",
    "    for j in range(out_Size):\n",
    "        for k in range(kernal_size):\n",
    "            for l in range(kernal_size):\n",
    "                if (k+i*stride < in_Size) and (l+j*stride < in_Size): \n",
    "                    conv_input[i*(out_Size)+j][k*kernal_size+l] = input[k+i*stride][l+j*stride] \n",
    "                    #만약 [k+i*stride][l+j*stride] 가 N보다 크면 걍 값에 0 때리면 됨.\n",
    "                else:\n",
    "                    conv_input[i*(out_Size)+j][k*kernal_size+l] = 0"
   ]
  },
  {
   "cell_type": "code",
   "execution_count": 5,
   "metadata": {},
   "outputs": [
    {
     "data": {
      "text/plain": [
       "array([[  0.,   1.,   2.,  16.,  17.,  18.,  32.,  33.,  34.],\n",
       "       [  2.,   3.,   4.,  18.,  19.,  20.,  34.,  35.,  36.],\n",
       "       [  4.,   5.,   6.,  20.,  21.,  22.,  36.,  37.,  38.],\n",
       "       [  6.,   7.,   8.,  22.,  23.,  24.,  38.,  39.,  40.],\n",
       "       [  8.,   9.,  10.,  24.,  25.,  26.,  40.,  41.,  42.],\n",
       "       [ 10.,  11.,  12.,  26.,  27.,  28.,  42.,  43.,  44.],\n",
       "       [ 12.,  13.,  14.,  28.,  29.,  30.,  44.,  45.,  46.],\n",
       "       [ 32.,  33.,  34.,  48.,  49.,  50.,  64.,  65.,  66.],\n",
       "       [ 34.,  35.,  36.,  50.,  51.,  52.,  66.,  67.,  68.],\n",
       "       [ 36.,  37.,  38.,  52.,  53.,  54.,  68.,  69.,  70.],\n",
       "       [ 38.,  39.,  40.,  54.,  55.,  56.,  70.,  71.,  72.],\n",
       "       [ 40.,  41.,  42.,  56.,  57.,  58.,  72.,  73.,  74.],\n",
       "       [ 42.,  43.,  44.,  58.,  59.,  60.,  74.,  75.,  76.],\n",
       "       [ 44.,  45.,  46.,  60.,  61.,  62.,  76.,  77.,  78.],\n",
       "       [ 64.,  65.,  66.,  80.,  81.,  82.,  96.,  97.,  98.],\n",
       "       [ 66.,  67.,  68.,  82.,  83.,  84.,  98.,  99., 100.],\n",
       "       [ 68.,  69.,  70.,  84.,  85.,  86., 100., 101., 102.],\n",
       "       [ 70.,  71.,  72.,  86.,  87.,  88., 102., 103., 104.],\n",
       "       [ 72.,  73.,  74.,  88.,  89.,  90., 104., 105., 106.],\n",
       "       [ 74.,  75.,  76.,  90.,  91.,  92., 106., 107., 108.],\n",
       "       [ 76.,  77.,  78.,  92.,  93.,  94., 108., 109., 110.],\n",
       "       [ 96.,  97.,  98., 112., 113., 114., 128., 129., 130.],\n",
       "       [ 98.,  99., 100., 114., 115., 116., 130., 131., 132.],\n",
       "       [100., 101., 102., 116., 117., 118., 132., 133., 134.],\n",
       "       [102., 103., 104., 118., 119., 120., 134., 135., 136.],\n",
       "       [104., 105., 106., 120., 121., 122., 136., 137., 138.],\n",
       "       [106., 107., 108., 122., 123., 124., 138., 139., 140.],\n",
       "       [108., 109., 110., 124., 125., 126., 140., 141., 142.],\n",
       "       [128., 129., 130., 144., 145., 146., 160., 161., 162.],\n",
       "       [130., 131., 132., 146., 147., 148., 162., 163., 164.]])"
      ]
     },
     "execution_count": 5,
     "metadata": {},
     "output_type": "execute_result"
    }
   ],
   "source": [
    "conv_input[:30]"
   ]
  },
  {
   "cell_type": "code",
   "execution_count": 6,
   "metadata": {},
   "outputs": [
    {
     "data": {
      "text/plain": [
       "(3, 9)"
      ]
     },
     "execution_count": 6,
     "metadata": {},
     "output_type": "execute_result"
    }
   ],
   "source": [
    "kernel = np.arange(kernal_size**2 * out_channel).reshape(out_channel, kernal_size**2)\n",
    "kernel.shape"
   ]
  },
  {
   "cell_type": "code",
   "execution_count": 7,
   "metadata": {},
   "outputs": [
    {
     "data": {
      "text/plain": [
       "(3, 49)"
      ]
     },
     "execution_count": 7,
     "metadata": {},
     "output_type": "execute_result"
    }
   ],
   "source": [
    "# res, kernel\n",
    "out = np.matmul(kernel, conv_input.T)\n",
    "out.shape"
   ]
  },
  {
   "cell_type": "code",
   "execution_count": 8,
   "metadata": {},
   "outputs": [
    {
     "name": "stdout",
     "output_type": "stream",
     "text": [
      "[[[  906.   978.  1050.  1122.  1194.  1266.  1338.]\n",
      "  [ 2058.  2130.  2202.  2274.  2346.  2418.  2490.]\n",
      "  [ 3210.  3282.  3354.  3426.  3498.  3570.  3642.]\n",
      "  [ 4362.  4434.  4506.  4578.  4650.  4722.  4794.]\n",
      "  [ 5514.  5586.  5658.  5730.  5802.  5874.  5946.]\n",
      "  [ 6666.  6738.  6810.  6882.  6954.  7026.  7098.]\n",
      "  [ 7818.  7890.  7962.  8034.  8106.  8178.  8250.]]\n",
      "\n",
      " [[ 2283.  2517.  2751.  2985.  3219.  3453.  3687.]\n",
      "  [ 6027.  6261.  6495.  6729.  6963.  7197.  7431.]\n",
      "  [ 9771. 10005. 10239. 10473. 10707. 10941. 11175.]\n",
      "  [13515. 13749. 13983. 14217. 14451. 14685. 14919.]\n",
      "  [17259. 17493. 17727. 17961. 18195. 18429. 18663.]\n",
      "  [21003. 21237. 21471. 21705. 21939. 22173. 22407.]\n",
      "  [24747. 24981. 25215. 25449. 25683. 25917. 26151.]]\n",
      "\n",
      " [[ 3660.  4056.  4452.  4848.  5244.  5640.  6036.]\n",
      "  [ 9996. 10392. 10788. 11184. 11580. 11976. 12372.]\n",
      "  [16332. 16728. 17124. 17520. 17916. 18312. 18708.]\n",
      "  [22668. 23064. 23460. 23856. 24252. 24648. 25044.]\n",
      "  [29004. 29400. 29796. 30192. 30588. 30984. 31380.]\n",
      "  [35340. 35736. 36132. 36528. 36924. 37320. 37716.]\n",
      "  [41676. 42072. 42468. 42864. 43260. 43656. 44052.]]]\n"
     ]
    }
   ],
   "source": [
    "print(out.reshape((3, out_Size, out_Size)))"
   ]
  },
  {
   "cell_type": "code",
   "execution_count": 9,
   "metadata": {},
   "outputs": [],
   "source": [
    "import torch\n",
    "import torch.nn as nn\n",
    "t_out = torch.tensor(input.reshape(1, in_Size, in_Size), dtype=torch.float)\n",
    "# t_ls"
   ]
  },
  {
   "cell_type": "code",
   "execution_count": 10,
   "metadata": {},
   "outputs": [
    {
     "name": "stdout",
     "output_type": "stream",
     "text": [
      "torch.Size([3, 1, 3, 3])\n",
      "tensor([[[  906.,   978.,  1050.,  1122.,  1194.,  1266.,  1338.],\n",
      "         [ 2058.,  2130.,  2202.,  2274.,  2346.,  2418.,  2490.],\n",
      "         [ 3210.,  3282.,  3354.,  3426.,  3498.,  3570.,  3642.],\n",
      "         [ 4362.,  4434.,  4506.,  4578.,  4650.,  4722.,  4794.],\n",
      "         [ 5514.,  5586.,  5658.,  5730.,  5802.,  5874.,  5946.],\n",
      "         [ 6666.,  6738.,  6810.,  6882.,  6954.,  7026.,  7098.],\n",
      "         [ 7818.,  7890.,  7962.,  8034.,  8106.,  8178.,  8250.]],\n",
      "\n",
      "        [[ 2283.,  2517.,  2751.,  2985.,  3219.,  3453.,  3687.],\n",
      "         [ 6027.,  6261.,  6495.,  6729.,  6963.,  7197.,  7431.],\n",
      "         [ 9771., 10005., 10239., 10473., 10707., 10941., 11175.],\n",
      "         [13515., 13749., 13983., 14217., 14451., 14685., 14919.],\n",
      "         [17259., 17493., 17727., 17961., 18195., 18429., 18663.],\n",
      "         [21003., 21237., 21471., 21705., 21939., 22173., 22407.],\n",
      "         [24747., 24981., 25215., 25449., 25683., 25917., 26151.]],\n",
      "\n",
      "        [[ 3660.,  4056.,  4452.,  4848.,  5244.,  5640.,  6036.],\n",
      "         [ 9996., 10392., 10788., 11184., 11580., 11976., 12372.],\n",
      "         [16332., 16728., 17124., 17520., 17916., 18312., 18708.],\n",
      "         [22668., 23064., 23460., 23856., 24252., 24648., 25044.],\n",
      "         [29004., 29400., 29796., 30192., 30588., 30984., 31380.],\n",
      "         [35340., 35736., 36132., 36528., 36924., 37320., 37716.],\n",
      "         [41676., 42072., 42468., 42864., 43260., 43656., 44052.]]],\n",
      "       grad_fn=<SqueezeBackward1>)\n"
     ]
    }
   ],
   "source": [
    "with torch.no_grad():\n",
    "    conv1 = nn.Conv2d(1, 3, kernal_size, stride, dtype=torch.float, bias=False)\n",
    "    print(conv1.weight.shape)\n",
    "    val = 0\n",
    "    for i in range(conv1.weight.shape[0]):\n",
    "        for j in range(conv1.weight.shape[2]):\n",
    "            for k in range(conv1.weight.shape[3]):\n",
    "                conv1.weight[i][0][j][k] = val\n",
    "                val+=1\n",
    "                # print(conv1.weight[i][0][j][k])\n",
    "print(conv1(t_out))"
   ]
  },
  {
   "cell_type": "code",
   "execution_count": 28,
   "metadata": {},
   "outputs": [],
   "source": [
    "A = np.arange(2*3*32*32).reshape((2, 3, 32, 32))\n",
    "B = np.arange(2*3*32*4).reshape((2, 3, 32, 4))"
   ]
  },
  {
   "cell_type": "code",
   "execution_count": 30,
   "metadata": {},
   "outputs": [
    {
     "data": {
      "text/plain": [
       "(2, 3, 32, 4)"
      ]
     },
     "execution_count": 30,
     "metadata": {},
     "output_type": "execute_result"
    }
   ],
   "source": [
    "np.matmul(A, B).shape"
   ]
  },
  {
   "cell_type": "code",
   "execution_count": null,
   "metadata": {},
   "outputs": [],
   "source": []
  }
 ],
 "metadata": {
  "kernelspec": {
   "display_name": "kkh38",
   "language": "python",
   "name": "python3"
  },
  "language_info": {
   "codemirror_mode": {
    "name": "ipython",
    "version": 3
   },
   "file_extension": ".py",
   "mimetype": "text/x-python",
   "name": "python",
   "nbconvert_exporter": "python",
   "pygments_lexer": "ipython3",
   "version": "3.8.13"
  }
 },
 "nbformat": 4,
 "nbformat_minor": 2
}
