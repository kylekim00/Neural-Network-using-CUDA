{
 "cells": [
  {
   "cell_type": "code",
   "execution_count": 1,
   "metadata": {},
   "outputs": [],
   "source": [
    "import timm\n",
    "import torch\n",
    "import torch.nn as nn\n",
    "import numpy as np"
   ]
  },
  {
   "cell_type": "code",
   "execution_count": 2,
   "metadata": {},
   "outputs": [],
   "source": [
    "from timm.data import resolve_data_config\n",
    "from timm.data.transforms_factory import create_transform\n",
    "\n",
    "model = timm.create_model('vit_base_patch16_224', pretrained=True)\n",
    "\n",
    "config = resolve_data_config({}, model=model)\n",
    "transform = create_transform(**config)"
   ]
  },
  {
   "cell_type": "code",
   "execution_count": 16,
   "metadata": {},
   "outputs": [
    {
     "data": {
      "text/plain": [
       "{'norm1': LayerNorm((768,), eps=1e-06, elementwise_affine=True),\n",
       " 'attn': Attention(\n",
       "   (qkv): Linear(in_features=768, out_features=2304, bias=True)\n",
       "   (q_norm): Identity()\n",
       "   (k_norm): Identity()\n",
       "   (attn_drop): Dropout(p=0.0, inplace=False)\n",
       "   (proj): Linear(in_features=768, out_features=768, bias=True)\n",
       "   (proj_drop): Dropout(p=0.0, inplace=False)\n",
       " ),\n",
       " 'ls1': Identity(),\n",
       " 'drop_path1': Identity(),\n",
       " 'norm2': LayerNorm((768,), eps=1e-06, elementwise_affine=True),\n",
       " 'mlp': Mlp(\n",
       "   (fc1): Linear(in_features=768, out_features=3072, bias=True)\n",
       "   (act): GELU(approximate='none')\n",
       "   (drop1): Dropout(p=0.0, inplace=False)\n",
       "   (norm): Identity()\n",
       "   (fc2): Linear(in_features=3072, out_features=768, bias=True)\n",
       "   (drop2): Dropout(p=0.0, inplace=False)\n",
       " ),\n",
       " 'ls2': Identity(),\n",
       " 'drop_path2': Identity()}"
      ]
     },
     "execution_count": 16,
     "metadata": {},
     "output_type": "execute_result"
    }
   ],
   "source": [
    "dict(dict(dict(model.named_children())['blocks'].named_children())['0'].named_children())"
   ]
  },
  {
   "cell_type": "code",
   "execution_count": 5,
   "metadata": {},
   "outputs": [
    {
     "data": {
      "text/plain": [
       "Linear(in_features=768, out_features=2304, bias=True)"
      ]
     },
     "execution_count": 5,
     "metadata": {},
     "output_type": "execute_result"
    }
   ],
   "source": [
    "layer = 0\n",
    "block = dict(dict(dict(model.named_children())['blocks'].named_children())[str(layer)].named_children())\n",
    "# list(block['attn'].children())[0]\n",
    "ls = [list(block['attn'].children())[0], list(block['attn'].children())[4],list(block['mlp'].children())[0], list(block['mlp'].children())[4]]\n",
    "ls[0].weight.clone().detach().numpy().T"
   ]
  }
 ],
 "metadata": {
  "kernelspec": {
   "display_name": "kkh38",
   "language": "python",
   "name": "python3"
  },
  "language_info": {
   "codemirror_mode": {
    "name": "ipython",
    "version": 3
   },
   "file_extension": ".py",
   "mimetype": "text/x-python",
   "name": "python",
   "nbconvert_exporter": "python",
   "pygments_lexer": "ipython3",
   "version": "3.8.13"
  }
 },
 "nbformat": 4,
 "nbformat_minor": 2
}
