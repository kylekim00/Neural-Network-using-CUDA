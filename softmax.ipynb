{
 "cells": [
  {
   "cell_type": "code",
   "execution_count": 2,
   "metadata": {},
   "outputs": [
    {
     "data": {
      "text/plain": [
       "[[array([0.1141952 , 0.84379473, 0.04201007]), 0.681839876303512],\n",
       " [array([0.09003057, 0.24472847, 0.66524096]), 0.31816012369648794]]"
      ]
     },
     "execution_count": 2,
     "metadata": {},
     "output_type": "execute_result"
    }
   ],
   "source": [
    "import numpy as np\n",
    "\n",
    "def softMax_FA(arr):\n",
    "    def sm(vec):\n",
    "        exvec = np.exp(vec)\n",
    "        exvec_sum = np.sum(exvec, axis=0)\n",
    "        return [exvec / exvec_sum, exvec_sum]\n",
    "    m = list(map(sm, arr))\n",
    "    m = [[row[i] for row in m] for i in range(len(m[0]))]\n",
    "    m[1] = m[1] / np.sum(m[1])\n",
    "    m = [[row[i] for row in m] for i in range(len(m[0]))]\n",
    "    return m\n",
    "\n",
    "\n",
    "P = np.array([[2,4,1],[1,2,3]])\n",
    "det = np.sum(P,1)\n",
    "P=softMax_FA(P)\n",
    "P"
   ]
  },
  {
   "cell_type": "code",
   "execution_count": 6,
   "metadata": {},
   "outputs": [
    {
     "name": "stdout",
     "output_type": "stream",
     "text": [
      "[ 7.3890561  54.59815003  2.71828183  2.71828183  7.3890561  20.08553692]\n"
     ]
    },
    {
     "data": {
      "text/plain": [
       "[0.07786284062284679,\n",
       " 0.5753328973843113,\n",
       " 0.028644138296353955,\n",
       " 0.028644138296353955,\n",
       " 0.07786284062284679,\n",
       " 0.21165314477728722]"
      ]
     },
     "execution_count": 6,
     "metadata": {},
     "output_type": "execute_result"
    }
   ],
   "source": [
    "P = np.array([[2, 4, 1], [1, 2, 3]])\n",
    "P = P.flatten()\n",
    "print(np.exp(P))\n",
    "[np.exp(i)/np.sum(np.exp(P)) for i in P]"
   ]
  },
  {
   "cell_type": "code",
   "execution_count": null,
   "metadata": {},
   "outputs": [],
   "source": []
  }
 ],
 "metadata": {
  "kernelspec": {
   "display_name": "kkh38",
   "language": "python",
   "name": "python3"
  },
  "language_info": {
   "codemirror_mode": {
    "name": "ipython",
    "version": 3
   },
   "file_extension": ".py",
   "mimetype": "text/x-python",
   "name": "python",
   "nbconvert_exporter": "python",
   "pygments_lexer": "ipython3",
   "version": "3.8.13"
  }
 },
 "nbformat": 4,
 "nbformat_minor": 2
}
