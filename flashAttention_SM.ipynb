{
 "cells": [
  {
   "cell_type": "markdown",
   "metadata": {},
   "source": [
    "# flash Attention 에서 쪼개지는 softMax 알고리즘 구현 예시\n",
    "### $\\cfrac{1}{1}$\n",
    "### $P(A\\cap B)$"
   ]
  },
  {
   "cell_type": "code",
   "execution_count": 1,
   "metadata": {},
   "outputs": [],
   "source": [
    "import numpy as np\n",
    "#flash Attention에서 쪼개지는 softmax 알고리즘 구현 예시\n",
    "def softMax(vec):\n",
    "    exvec = np.exp(vec)\n",
    "    exvec_sum = np.sum(exvec, axis=0)\n",
    "    return exvec / exvec_sum"
   ]
  },
  {
   "cell_type": "code",
   "execution_count": 2,
   "metadata": {},
   "outputs": [],
   "source": [
    "A = np.array([2, 4, 1, 1, 2, 3]) #다음과 같이 A라는 어레이가 있다"
   ]
  },
  {
   "cell_type": "code",
   "execution_count": 3,
   "metadata": {},
   "outputs": [
    {
     "name": "stdout",
     "output_type": "stream",
     "text": [
      "[0.07786284 0.5753329  0.02864414 0.02864414 0.07786284 0.21165314]\n"
     ]
    }
   ],
   "source": [
    "print(softMax(A))"
   ]
  },
  {
   "cell_type": "code",
   "execution_count": 4,
   "metadata": {},
   "outputs": [
    {
     "name": "stdout",
     "output_type": "stream",
     "text": [
      "[2 4 1] [1 2 3]\n"
     ]
    }
   ],
   "source": [
    "A1 = A[:3]\n",
    "A2 = A[3:]\n",
    "print(A1, A2)"
   ]
  },
  {
   "cell_type": "markdown",
   "metadata": {},
   "source": [
    "$A1, A2 \\subset A$, \n",
    "\n",
    "A1과 A2는 mutually exclusive && collectively exhaustive 하다. \n",
    "\n",
    "만약 \n",
    "\n",
    "$O1 = softMax(A1)$ \n",
    "\n",
    "$O2 = softMax(A2)$ \n",
    "\n",
    "일 경우\n",
    "\n",
    "$P(A1_{1})=P(A1_{1}|A_1)P(A_1)$\n",
    "\n",
    "\n",
    "$$"
   ]
  },
  {
   "cell_type": "code",
   "execution_count": 5,
   "metadata": {},
   "outputs": [
    {
     "data": {
      "text/plain": [
       "[{'rm_Array': array([0.1141952 , 0.84379473, 0.04201007]),\n",
       "  'rm_Sum': 64.70548796053393},\n",
       " {'rm_Array': array([0.09003057, 0.24472847, 0.66524096]),\n",
       "  'rm_Sum': 30.19287485057736},\n",
       " {'rm_Array': array([0.4223188, 0.1553624, 0.4223188]),\n",
       "  'rm_Sum': 129.28183698947615}]"
      ]
     },
     "execution_count": 5,
     "metadata": {},
     "output_type": "execute_result"
    }
   ],
   "source": [
    "#flash Attention에서 쪼개지는 softmax 알고리즘 구현 예시\n",
    "\n",
    "\n",
    "def softMax_FA(arr):\n",
    "    def rowMax(vec):\n",
    "        exvec = np.exp(vec)\n",
    "        exvec_sum = np.sum(exvec, axis=0)\n",
    "        return {\"rm_Array\":exvec / exvec_sum, \"rm_Sum\":exvec_sum}\n",
    "        \n",
    "    m = list(map(rowMax, arr))\n",
    "    sum = 0\n",
    "    for i in m:\n",
    "        sum += i['rm_Sum']\n",
    "    res = list()\n",
    "    for i in m:\n",
    "        sum += i['rm_Sum']\n",
    "\n",
    "    return m\n",
    "\n",
    "\n",
    "P = np.array([[2,4,1],[1,2,3],[4,3,4]])\n",
    "\n",
    "det = np.sum(P,1)\n",
    "P=softMax_FA(P)\n",
    "P"
   ]
  },
  {
   "cell_type": "markdown",
   "metadata": {},
   "source": [
    "### softMax는 확률 함수이다. 그래서 조건부확률로 표현이 가능하다. \n",
    "다음과 같이 벡터 A의 원소를 확률로 나타내면\n",
    "\n",
    "$P(A_i)$"
   ]
  },
  {
   "cell_type": "code",
   "execution_count": null,
   "metadata": {},
   "outputs": [],
   "source": []
  },
  {
   "cell_type": "code",
   "execution_count": 6,
   "metadata": {},
   "outputs": [
    {
     "name": "stdout",
     "output_type": "stream",
     "text": [
      "[ 7.3890561  54.59815003  2.71828183  2.71828183  7.3890561  20.08553692]\n"
     ]
    },
    {
     "data": {
      "text/plain": [
       "[0.07786284062284679,\n",
       " 0.5753328973843113,\n",
       " 0.028644138296353955,\n",
       " 0.028644138296353955,\n",
       " 0.07786284062284679,\n",
       " 0.21165314477728722]"
      ]
     },
     "execution_count": 6,
     "metadata": {},
     "output_type": "execute_result"
    }
   ],
   "source": [
    "P = np.array([[2, 4, 1], [1, 2, 3]])\n",
    "P = P.flatten()\n",
    "print(np.exp(P))\n",
    "[np.exp(i)/np.sum(np.exp(P)) for i in P]"
   ]
  },
  {
   "cell_type": "code",
   "execution_count": null,
   "metadata": {},
   "outputs": [],
   "source": []
  }
 ],
 "metadata": {
  "kernelspec": {
   "display_name": "kkh38",
   "language": "python",
   "name": "python3"
  },
  "language_info": {
   "codemirror_mode": {
    "name": "ipython",
    "version": 3
   },
   "file_extension": ".py",
   "mimetype": "text/x-python",
   "name": "python",
   "nbconvert_exporter": "python",
   "pygments_lexer": "ipython3",
   "version": "3.8.13"
  }
 },
 "nbformat": 4,
 "nbformat_minor": 2
}
