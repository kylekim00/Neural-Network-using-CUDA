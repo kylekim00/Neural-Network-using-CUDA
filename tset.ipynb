{
 "cells": [
  {
   "cell_type": "code",
   "execution_count": 2,
   "metadata": {},
   "outputs": [],
   "source": [
    "# import torch\n",
    "# from torchvision import datasets, transforms\n",
    "\n",
    "# transform = transforms.Compose([transforms.ToTensor()])\n",
    "# train_dataset = datasets.MNIST(root='./data', train=True, download=True, transform=transform)\n",
    "# test_dataset = datasets.MNIST(root='./data', train=False, download=True, transform=transform)\n",
    "\n",
    "# x_train = train_dataset.data.float()\n",
    "# x_test = test_dataset.data.float()\n",
    "\n",
    "# # padding\n",
    "# def pad_batches(data, batch_size):\n",
    "#     pad_size = (-len(data)) % batch_size\n",
    "#     if pad_size > 0:\n",
    "#         data = torch.nn.functional.pad(data, (0, 0, 0, 0, 0, pad_size))\n",
    "#     return data\n",
    "\n",
    "# x_train_padded = pad_batches(x_train, 4)\n",
    "# x_test_padded = pad_batches(x_test, 4)\n",
    "\n",
    "# # batch -> 4\n",
    "# x_train_batches = x_train_padded.view(-1, 4, 28, 28)\n",
    "# x_test_batches = x_test_padded.view(-1, 4, 28, 28)\n",
    "\n",
    "# # 이진 파일로\n",
    "# x_train_bat\n",
    "# ('mnist_train_batches_fp32.bin')\n",
    "# x_test_batches.numpy().tofile('mnist_test_batches_fp32.bin')\n",
    "\n",
    "# print(\"Binary files have been saved.\")\n",
    "\n"
   ]
  },
  {
   "cell_type": "code",
   "execution_count": 7,
   "metadata": {},
   "outputs": [],
   "source": [
    "import torch\n",
    "A = torch.arange(2 * 3 * 4 * 5).reshape(2, 3, 4, 5)\n",
    "B = torch.arange(3 * 4 * 5).reshape(3, 5, 4)"
   ]
  },
  {
   "cell_type": "code",
   "execution_count": 8,
   "metadata": {},
   "outputs": [
    {
     "data": {
      "text/plain": [
       "tensor([[[[  120,   130,   140,   150],\n",
       "          [  320,   355,   390,   425],\n",
       "          [  520,   580,   640,   700],\n",
       "          [  720,   805,   890,   975]],\n",
       "\n",
       "         [[ 3120,  3230,  3340,  3450],\n",
       "          [ 3820,  3955,  4090,  4225],\n",
       "          [ 4520,  4680,  4840,  5000],\n",
       "          [ 5220,  5405,  5590,  5775]],\n",
       "\n",
       "         [[10120, 10330, 10540, 10750],\n",
       "          [11320, 11555, 11790, 12025],\n",
       "          [12520, 12780, 13040, 13300],\n",
       "          [13720, 14005, 14290, 14575]]],\n",
       "\n",
       "\n",
       "        [[[ 2520,  2830,  3140,  3450],\n",
       "          [ 2720,  3055,  3390,  3725],\n",
       "          [ 2920,  3280,  3640,  4000],\n",
       "          [ 3120,  3505,  3890,  4275]],\n",
       "\n",
       "         [[11520, 11930, 12340, 12750],\n",
       "          [12220, 12655, 13090, 13525],\n",
       "          [12920, 13380, 13840, 14300],\n",
       "          [13620, 14105, 14590, 15075]],\n",
       "\n",
       "         [[24520, 25030, 25540, 26050],\n",
       "          [25720, 26255, 26790, 27325],\n",
       "          [26920, 27480, 28040, 28600],\n",
       "          [28120, 28705, 29290, 29875]]]])"
      ]
     },
     "execution_count": 8,
     "metadata": {},
     "output_type": "execute_result"
    }
   ],
   "source": [
    "torch.matmul(A, B)"
   ]
  },
  {
   "cell_type": "code",
   "execution_count": 76,
   "metadata": {},
   "outputs": [
    {
     "name": "stdout",
     "output_type": "stream",
     "text": [
      "[5, 0, 0, 0]\n"
     ]
    },
    {
     "data": {
      "text/plain": [
       "30"
      ]
     },
     "execution_count": 76,
     "metadata": {},
     "output_type": "execute_result"
    }
   ],
   "source": [
    "mat_inx = 20\n",
    "\n",
    "dimA = [5, 1, 2, 3]\n",
    "dimB = [4, 3, 2]\n",
    "dimC = [5, 4, 2, 2]\n",
    "strideA = [6, 6, 3, 1]\n",
    "strideB = [6, 2, 1]\n",
    "strideC = [16, 4, 2, 1]\n",
    "\n",
    "inx = mat_inx * strideC[len(strideC)-3]\n",
    "\n",
    "inxA = 0\n",
    "inxB = 0\n",
    "inx_tmp = inx\n",
    "cont = len(strideA) - len(strideB)\n",
    "inxC = 4*[0]\n",
    "\n",
    "for i in range(len(strideA)-2):\n",
    "    inxC[i] = inx_tmp // strideC[i]\n",
    "    if dimA[i] != 1:\n",
    "        inxA += (inx_tmp // strideC[i]) * strideA[i]\n",
    "    inx_tmp %= strideC[i]\n",
    "print(inxC)\n",
    "inxA"
   ]
  },
  {
   "cell_type": "code",
   "execution_count": 108,
   "metadata": {},
   "outputs": [
    {
     "name": "stdout",
     "output_type": "stream",
     "text": [
      "[5, 2, 0, 0]\n"
     ]
    },
    {
     "data": {
      "text/plain": [
       "(30, 12)"
      ]
     },
     "execution_count": 108,
     "metadata": {},
     "output_type": "execute_result"
    }
   ],
   "source": [
    "mat_inx+=1\n",
    "\n",
    "dimA = [5, 1, 2, 3]\n",
    "dimB = [4, 3, 2]\n",
    "dimC = [5, 4, 2, 2]\n",
    "strideA = [6, 6, 3, 1]\n",
    "strideB = [6, 2, 1]\n",
    "strideC = [16, 4, 2, 1]\n",
    "\n",
    "inx = mat_inx * strideC[len(strideC)-3]\n",
    "\n",
    "inxA = 0\n",
    "inxB = 0\n",
    "inx_tmp = inx\n",
    "cont = len(strideA) - len(strideB)\n",
    "\n",
    "inxC = 4*[0]\n",
    "for i in range(cont):\n",
    "    inxC[i] = inx_tmp // strideC[i]\n",
    "    if dimA[i] != 1:\n",
    "        inxA += (inx_tmp // strideC[i]) * strideA[i]\n",
    "    inx_tmp %= strideC[i]\n",
    "\n",
    "for i in range(cont, len(strideA)-2):\n",
    "    inxC[i] = inx_tmp // strideC[i]\n",
    "    if dimA[i] != 1:\n",
    "        inxA += (inx_tmp // strideC[i]) * strideA[i]\n",
    "    if dimB[i-cont] != 1:\n",
    "        inxB += (inx_tmp // strideC[i]) * strideB[i-cont]\n",
    "    inx_tmp %= strideC[i]\n",
    "print(inxC)\n",
    "inxA, inxB"
   ]
  },
  {
   "cell_type": "code",
   "execution_count": 111,
   "metadata": {},
   "outputs": [],
   "source": [
    "import torch\n",
    "A = torch.arange(1*2*3*4).reshape(*dimA)\n",
    "B = torch.arange(4*3*2).reshape(*dimB)"
   ]
  },
  {
   "cell_type": "code",
   "execution_count": 112,
   "metadata": {},
   "outputs": [
    {
     "data": {
      "text/plain": [
       "tensor([[[[  10,   13],\n",
       "          [  28,   40]],\n",
       "\n",
       "         [[  28,   31],\n",
       "          [ 100,  112]],\n",
       "\n",
       "         [[  46,   49],\n",
       "          [ 172,  184]],\n",
       "\n",
       "         [[  64,   67],\n",
       "          [ 244,  256]]],\n",
       "\n",
       "\n",
       "        [[[  46,   67],\n",
       "          [  64,   94]],\n",
       "\n",
       "         [[ 172,  193],\n",
       "          [ 244,  274]],\n",
       "\n",
       "         [[ 298,  319],\n",
       "          [ 424,  454]],\n",
       "\n",
       "         [[ 424,  445],\n",
       "          [ 604,  634]]],\n",
       "\n",
       "\n",
       "        [[[  82,  121],\n",
       "          [ 100,  148]],\n",
       "\n",
       "         [[ 316,  355],\n",
       "          [ 388,  436]],\n",
       "\n",
       "         [[ 550,  589],\n",
       "          [ 676,  724]],\n",
       "\n",
       "         [[ 784,  823],\n",
       "          [ 964, 1012]]],\n",
       "\n",
       "\n",
       "        [[[ 118,  175],\n",
       "          [ 136,  202]],\n",
       "\n",
       "         [[ 460,  517],\n",
       "          [ 532,  598]],\n",
       "\n",
       "         [[ 802,  859],\n",
       "          [ 928,  994]],\n",
       "\n",
       "         [[1144, 1201],\n",
       "          [1324, 1390]]],\n",
       "\n",
       "\n",
       "        [[[ 154,  229],\n",
       "          [ 172,  256]],\n",
       "\n",
       "         [[ 604,  679],\n",
       "          [ 676,  760]],\n",
       "\n",
       "         [[1054, 1129],\n",
       "          [1180, 1264]],\n",
       "\n",
       "         [[1504, 1579],\n",
       "          [1684, 1768]]]])"
      ]
     },
     "execution_count": 112,
     "metadata": {},
     "output_type": "execute_result"
    }
   ],
   "source": [
    "torch.matmul(A, B)"
   ]
  },
  {
   "cell_type": "code",
   "execution_count": null,
   "metadata": {},
   "outputs": [],
   "source": []
  }
 ],
 "metadata": {
  "kernelspec": {
   "display_name": "kkh38",
   "language": "python",
   "name": "python3"
  },
  "language_info": {
   "codemirror_mode": {
    "name": "ipython",
    "version": 3
   },
   "file_extension": ".py",
   "mimetype": "text/x-python",
   "name": "python",
   "nbconvert_exporter": "python",
   "pygments_lexer": "ipython3",
   "version": "3.8.13"
  }
 },
 "nbformat": 4,
 "nbformat_minor": 2
}
