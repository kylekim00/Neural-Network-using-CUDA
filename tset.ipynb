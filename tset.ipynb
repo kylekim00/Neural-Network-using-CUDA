{
 "cells": [
  {
   "cell_type": "code",
   "execution_count": 1,
   "metadata": {},
   "outputs": [],
   "source": [
    "# import torch\n",
    "# from torchvision import datasets, transforms\n",
    "\n",
    "# transform = transforms.Compose([transforms.ToTensor()])\n",
    "# train_dataset = datasets.MNIST(root='./data', train=True, download=True, transform=transform)\n",
    "# test_dataset = datasets.MNIST(root='./data', train=False, download=True, transform=transform)\n",
    "\n",
    "# x_train = train_dataset.data.float()\n",
    "# x_test = test_dataset.data.float()\n",
    "\n",
    "# # padding\n",
    "# def pad_batches(data, batch_size):\n",
    "#     pad_size = (-len(data)) % batch_size\n",
    "#     if pad_size > 0:\n",
    "#         data = torch.nn.functional.pad(data, (0, 0, 0, 0, 0, pad_size))\n",
    "#     return data\n",
    "\n",
    "# x_train_padded = pad_batches(x_train, 4)\n",
    "# x_test_padded = pad_batches(x_test, 4)\n",
    "\n",
    "# # batch -> 4\n",
    "# x_train_batches = x_train_padded.view(-1, 4, 28, 28)\n",
    "# x_test_batches = x_test_padded.view(-1, 4, 28, 28)\n",
    "\n",
    "# # 이진 파일로\n",
    "# x_train_bat\n",
    "# ('mnist_train_batches_fp32.bin')\n",
    "# x_test_batches.numpy().tofile('mnist_test_batches_fp32.bin')\n",
    "\n",
    "# print(\"Binary files have been saved.\")\n",
    "\n"
   ]
  },
  {
   "cell_type": "code",
   "execution_count": 2,
   "metadata": {},
   "outputs": [],
   "source": [
    "import torch\n",
    "A_dim = [4,3, 2, 4]\n",
    "B_dim = [3, 5, 2]\n",
    "A_mult = 1\n",
    "B_mult = 1\n",
    "for i in A_dim:\n",
    "    A_mult *= i\n",
    "for i in B_dim:\n",
    "    B_mult *= i\n",
    "\n",
    "\n",
    "A = torch.arange(A_mult).reshape(*A_dim)\n",
    "B = torch.arange(B_mult).reshape(*B_dim)"
   ]
  },
  {
   "cell_type": "code",
   "execution_count": 3,
   "metadata": {},
   "outputs": [
    {
     "data": {
      "text/plain": [
       "tensor([[[ 0,  1],\n",
       "         [ 2,  3],\n",
       "         [ 4,  5],\n",
       "         [ 6,  7],\n",
       "         [ 8,  9]],\n",
       "\n",
       "        [[10, 11],\n",
       "         [12, 13],\n",
       "         [14, 15],\n",
       "         [16, 17],\n",
       "         [18, 19]],\n",
       "\n",
       "        [[20, 21],\n",
       "         [22, 23],\n",
       "         [24, 25],\n",
       "         [26, 27],\n",
       "         [28, 29]]])"
      ]
     },
     "execution_count": 3,
     "metadata": {},
     "output_type": "execute_result"
    }
   ],
   "source": [
    "B"
   ]
  },
  {
   "cell_type": "code",
   "execution_count": 4,
   "metadata": {},
   "outputs": [
    {
     "data": {
      "text/plain": [
       "tensor([[[[   5,    6],\n",
       "          [  17,   22],\n",
       "          [  29,   38],\n",
       "          [  41,   54],\n",
       "          [  53,   70]],\n",
       "\n",
       "         [[  65,   86],\n",
       "          [  77,  102],\n",
       "          [  89,  118],\n",
       "          [ 101,  134],\n",
       "          [ 113,  150]],\n",
       "\n",
       "         [[ 125,  166],\n",
       "          [ 137,  182],\n",
       "          [ 149,  198],\n",
       "          [ 161,  214],\n",
       "          [ 173,  230]]],\n",
       "\n",
       "\n",
       "        [[[  13,   14],\n",
       "          [  57,   62],\n",
       "          [ 101,  110],\n",
       "          [ 145,  158],\n",
       "          [ 189,  206]],\n",
       "\n",
       "         [[ 233,  254],\n",
       "          [ 277,  302],\n",
       "          [ 321,  350],\n",
       "          [ 365,  398],\n",
       "          [ 409,  446]],\n",
       "\n",
       "         [[ 453,  494],\n",
       "          [ 497,  542],\n",
       "          [ 541,  590],\n",
       "          [ 585,  638],\n",
       "          [ 629,  686]]],\n",
       "\n",
       "\n",
       "        [[[  21,   22],\n",
       "          [  97,  102],\n",
       "          [ 173,  182],\n",
       "          [ 249,  262],\n",
       "          [ 325,  342]],\n",
       "\n",
       "         [[ 401,  422],\n",
       "          [ 477,  502],\n",
       "          [ 553,  582],\n",
       "          [ 629,  662],\n",
       "          [ 705,  742]],\n",
       "\n",
       "         [[ 781,  822],\n",
       "          [ 857,  902],\n",
       "          [ 933,  982],\n",
       "          [1009, 1062],\n",
       "          [1085, 1142]]]])"
      ]
     },
     "execution_count": 4,
     "metadata": {},
     "output_type": "execute_result"
    }
   ],
   "source": [
    "A = torch.Tensor([[[[1,2],[5,6]]], [[[9,10],[13,14]]], [[[17,18],[21,22]]]]).to(torch.long)\n",
    "torch.matmul(B, A)\n",
    "# A.shape\n"
   ]
  },
  {
   "cell_type": "code",
   "execution_count": 5,
   "metadata": {},
   "outputs": [
    {
     "ename": "RuntimeError",
     "evalue": "Expected size for first two dimensions of batch2 tensor to be: [9, 2] but got: [9, 5].",
     "output_type": "error",
     "traceback": [
      "\u001b[0;31m---------------------------------------------------------------------------\u001b[0m",
      "\u001b[0;31mRuntimeError\u001b[0m                              Traceback (most recent call last)",
      "Cell \u001b[0;32mIn[5], line 1\u001b[0m\n\u001b[0;32m----> 1\u001b[0m \u001b[43mtorch\u001b[49m\u001b[38;5;241;43m.\u001b[39;49m\u001b[43mmatmul\u001b[49m\u001b[43m(\u001b[49m\u001b[43mA\u001b[49m\u001b[43m,\u001b[49m\u001b[43m \u001b[49m\u001b[43mB\u001b[49m\u001b[43m)\u001b[49m\n",
      "\u001b[0;31mRuntimeError\u001b[0m: Expected size for first two dimensions of batch2 tensor to be: [9, 2] but got: [9, 5]."
     ]
    }
   ],
   "source": [
    "torch.matmul(A, B)"
   ]
  },
  {
   "cell_type": "code",
   "execution_count": null,
   "metadata": {},
   "outputs": [
    {
     "name": "stdout",
     "output_type": "stream",
     "text": [
      "[5, 0, 0, 0]\n"
     ]
    },
    {
     "data": {
      "text/plain": [
       "30"
      ]
     },
     "execution_count": 76,
     "metadata": {},
     "output_type": "execute_result"
    }
   ],
   "source": [
    "mat_inx = 20\n",
    "\n",
    "dimA = [5, 1, 2, 3]\n",
    "dimB = [4, 3, 2]\n",
    "dimC = [5, 4, 2, 2]\n",
    "strideA = [6, 6, 3, 1]\n",
    "strideB = [6, 2, 1]\n",
    "strideC = [16, 4, 2, 1]\n",
    "\n",
    "inx = mat_inx * strideC[len(strideC)-3]\n",
    "\n",
    "inxA = 0\n",
    "inxB = 0\n",
    "inx_tmp = inx\n",
    "cont = len(strideA) - len(strideB)\n",
    "inxC = 4*[0]\n",
    "\n",
    "for i in range(len(strideA)-2):\n",
    "    inxC[i] = inx_tmp // strideC[i]\n",
    "    if dimA[i] != 1:\n",
    "        inxA += (inx_tmp // strideC[i]) * strideA[i]\n",
    "    inx_tmp %= strideC[i]\n",
    "print(inxC)\n",
    "inxA"
   ]
  },
  {
   "cell_type": "code",
   "execution_count": null,
   "metadata": {},
   "outputs": [
    {
     "name": "stdout",
     "output_type": "stream",
     "text": [
      "[5, 2, 0, 0]\n"
     ]
    },
    {
     "data": {
      "text/plain": [
       "(30, 12)"
      ]
     },
     "execution_count": 108,
     "metadata": {},
     "output_type": "execute_result"
    }
   ],
   "source": [
    "mat_inx+=1\n",
    "\n",
    "dimA = [5, 1, 2, 3]\n",
    "dimB = [4, 3, 2]\n",
    "dimC = [5, 4, 2, 2]\n",
    "strideA = [6, 6, 3, 1]\n",
    "strideB = [6, 2, 1]\n",
    "strideC = [16, 4, 2, 1]\n",
    "\n",
    "inx = mat_inx * strideC[len(strideC)-3]\n",
    "\n",
    "inxA = 0\n",
    "inxB = 0\n",
    "inx_tmp = inx\n",
    "cont = len(strideA) - len(strideB)\n",
    "\n",
    "inxC = 4*[0]\n",
    "for i in range(cont):\n",
    "    inxC[i] = inx_tmp // strideC[i]\n",
    "    if dimA[i] != 1:\n",
    "        inxA += (inx_tmp // strideC[i]) * strideA[i]\n",
    "    inx_tmp %= strideC[i]\n",
    "\n",
    "for i in range(cont, len(strideA)-2):\n",
    "    inxC[i] = inx_tmp // strideC[i]\n",
    "    if dimA[i] != 1:\n",
    "        inxA += (inx_tmp // strideC[i]) * strideA[i]\n",
    "    if dimB[i-cont] != 1:\n",
    "        inxB += (inx_tmp // strideC[i]) * strideB[i-cont]\n",
    "    inx_tmp %= strideC[i]\n",
    "print(inxC)\n",
    "inxA, inxB"
   ]
  },
  {
   "cell_type": "code",
   "execution_count": null,
   "metadata": {},
   "outputs": [],
   "source": [
    "import torch\n",
    "A = torch.arange(1*2*3*4).reshape(*dimA)\n",
    "B = torch.arange(4*3*2).reshape(*dimB)"
   ]
  },
  {
   "cell_type": "code",
   "execution_count": null,
   "metadata": {},
   "outputs": [
    {
     "data": {
      "text/plain": [
       "tensor([[[[  10,   13],\n",
       "          [  28,   40]],\n",
       "\n",
       "         [[  28,   31],\n",
       "          [ 100,  112]],\n",
       "\n",
       "         [[  46,   49],\n",
       "          [ 172,  184]],\n",
       "\n",
       "         [[  64,   67],\n",
       "          [ 244,  256]]],\n",
       "\n",
       "\n",
       "        [[[  46,   67],\n",
       "          [  64,   94]],\n",
       "\n",
       "         [[ 172,  193],\n",
       "          [ 244,  274]],\n",
       "\n",
       "         [[ 298,  319],\n",
       "          [ 424,  454]],\n",
       "\n",
       "         [[ 424,  445],\n",
       "          [ 604,  634]]],\n",
       "\n",
       "\n",
       "        [[[  82,  121],\n",
       "          [ 100,  148]],\n",
       "\n",
       "         [[ 316,  355],\n",
       "          [ 388,  436]],\n",
       "\n",
       "         [[ 550,  589],\n",
       "          [ 676,  724]],\n",
       "\n",
       "         [[ 784,  823],\n",
       "          [ 964, 1012]]],\n",
       "\n",
       "\n",
       "        [[[ 118,  175],\n",
       "          [ 136,  202]],\n",
       "\n",
       "         [[ 460,  517],\n",
       "          [ 532,  598]],\n",
       "\n",
       "         [[ 802,  859],\n",
       "          [ 928,  994]],\n",
       "\n",
       "         [[1144, 1201],\n",
       "          [1324, 1390]]],\n",
       "\n",
       "\n",
       "        [[[ 154,  229],\n",
       "          [ 172,  256]],\n",
       "\n",
       "         [[ 604,  679],\n",
       "          [ 676,  760]],\n",
       "\n",
       "         [[1054, 1129],\n",
       "          [1180, 1264]],\n",
       "\n",
       "         [[1504, 1579],\n",
       "          [1684, 1768]]]])"
      ]
     },
     "execution_count": 112,
     "metadata": {},
     "output_type": "execute_result"
    }
   ],
   "source": [
    "torch.matmul(A, B)"
   ]
  },
  {
   "cell_type": "code",
   "execution_count": 65,
   "metadata": {},
   "outputs": [
    {
     "data": {
      "text/plain": [
       "tensor([[[  0,   1,   2,   3,   4],\n",
       "         [ 14,  15,  16,  17,  18],\n",
       "         [ 28,  29,  30,  31,  32],\n",
       "         [ 42,  43,  44,  45,  46],\n",
       "         [ 56,  57,  58,  59,  60]],\n",
       "\n",
       "        [[ 70,  71,  72,  73,  74],\n",
       "         [ 84,  85,  86,  87,  88],\n",
       "         [ 98,  99, 100, 101, 102],\n",
       "         [112, 113, 114, 115, 116],\n",
       "         [126, 127, 128, 129, 130]],\n",
       "\n",
       "        [[140, 141, 142, 143, 144],\n",
       "         [154, 155, 156, 157, 158],\n",
       "         [168, 169, 170, 171, 172],\n",
       "         [182, 183, 184, 185, 186],\n",
       "         [196, 197, 198, 199, 200]]])"
      ]
     },
     "execution_count": 65,
     "metadata": {},
     "output_type": "execute_result"
    }
   ],
   "source": [
    "import torch\n",
    "\n",
    "A = list()\n",
    "\n",
    "for j in range(3):\n",
    "    A_ = list()\n",
    "    for i in range(j*70, j*70+ 57, 14):\n",
    "        A_.append(torch.arange(i, i+5, 1))\n",
    "    A.append(torch.stack(A_))\n",
    "A = torch.stack(A)\n",
    "A"
   ]
  },
  {
   "cell_type": "code",
   "execution_count": 66,
   "metadata": {},
   "outputs": [
    {
     "data": {
      "text/plain": [
       "tensor([[ 0,  1,  2,  3,  4],\n",
       "        [ 5,  6,  7,  8,  9],\n",
       "        [10, 11, 12, 13, 14],\n",
       "        [15, 16, 17, 18, 19],\n",
       "        [20, 21, 22, 23, 24]])"
      ]
     },
     "execution_count": 66,
     "metadata": {},
     "output_type": "execute_result"
    }
   ],
   "source": [
    "B = torch.arange(25).reshape(5, 5)\n",
    "B"
   ]
  },
  {
   "cell_type": "code",
   "execution_count": 68,
   "metadata": {},
   "outputs": [
    {
     "data": {
      "text/plain": [
       "tensor([[[  420,   430,   440,   450,   460],\n",
       "         [ 1120,  1155,  1190,  1225,  1260],\n",
       "         [ 1820,  1880,  1940,  2000,  2060],\n",
       "         [ 2520,  2605,  2690,  2775,  2860],\n",
       "         [ 3220,  3330,  3440,  3550,  3660]],\n",
       "\n",
       "        [[ 1120,  1130,  1140,  1150,  1160],\n",
       "         [ 3570,  3605,  3640,  3675,  3710],\n",
       "         [ 6020,  6080,  6140,  6200,  6260],\n",
       "         [ 8470,  8555,  8640,  8725,  8810],\n",
       "         [10920, 11030, 11140, 11250, 11360]],\n",
       "\n",
       "        [[ 1820,  1830,  1840,  1850,  1860],\n",
       "         [ 6020,  6055,  6090,  6125,  6160],\n",
       "         [10220, 10280, 10340, 10400, 10460],\n",
       "         [14420, 14505, 14590, 14675, 14760],\n",
       "         [18620, 18730, 18840, 18950, 19060]]])"
      ]
     },
     "execution_count": 68,
     "metadata": {},
     "output_type": "execute_result"
    }
   ],
   "source": [
    "torch.matmul(B, A)"
   ]
  },
  {
   "cell_type": "code",
   "execution_count": 6,
   "metadata": {},
   "outputs": [
    {
     "data": {
      "text/plain": [
       "Sequential(\n",
       "  (0): Linear(in_features=784, out_features=50, bias=True)\n",
       "  (1): Linear(in_features=50, out_features=30, bias=True)\n",
       "  (2): Linear(in_features=30, out_features=40, bias=True)\n",
       "  (3): Linear(in_features=40, out_features=10, bias=True)\n",
       ")"
      ]
     },
     "execution_count": 6,
     "metadata": {},
     "output_type": "execute_result"
    }
   ],
   "source": [
    "import torch \n",
    "import torch.nn as nn\n",
    "\n",
    "nn.Sequential(\n",
    "    nn.Linear(784, 50),\n",
    "    nn.Linear(50, 30),\n",
    "    nn.Linear(30, 40),\n",
    "    nn.Linear(40, 10)\n",
    ")"
   ]
  },
  {
   "cell_type": "code",
   "execution_count": null,
   "metadata": {},
   "outputs": [],
   "source": []
  }
 ],
 "metadata": {
  "kernelspec": {
   "display_name": "kkh38",
   "language": "python",
   "name": "python3"
  },
  "language_info": {
   "codemirror_mode": {
    "name": "ipython",
    "version": 3
   },
   "file_extension": ".py",
   "mimetype": "text/x-python",
   "name": "python",
   "nbconvert_exporter": "python",
   "pygments_lexer": "ipython3",
   "version": "3.8.13"
  }
 },
 "nbformat": 4,
 "nbformat_minor": 2
}
