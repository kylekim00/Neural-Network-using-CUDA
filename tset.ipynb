{
 "cells": [
  {
   "cell_type": "code",
   "execution_count": 2,
   "metadata": {},
   "outputs": [],
   "source": [
    "# import torch\n",
    "# from torchvision import datasets, transforms\n",
    "\n",
    "# transform = transforms.Compose([transforms.ToTensor()])\n",
    "# train_dataset = datasets.MNIST(root='./data', train=True, download=True, transform=transform)\n",
    "# test_dataset = datasets.MNIST(root='./data', train=False, download=True, transform=transform)\n",
    "\n",
    "# x_train = train_dataset.data.float()\n",
    "# x_test = test_dataset.data.float()\n",
    "\n",
    "# # padding\n",
    "# def pad_batches(data, batch_size):\n",
    "#     pad_size = (-len(data)) % batch_size\n",
    "#     if pad_size > 0:\n",
    "#         data = torch.nn.functional.pad(data, (0, 0, 0, 0, 0, pad_size))\n",
    "#     return data\n",
    "\n",
    "# x_train_padded = pad_batches(x_train, 4)\n",
    "# x_test_padded = pad_batches(x_test, 4)\n",
    "\n",
    "# # batch -> 4\n",
    "# x_train_batches = x_train_padded.view(-1, 4, 28, 28)\n",
    "# x_test_batches = x_test_padded.view(-1, 4, 28, 28)\n",
    "\n",
    "# # 이진 파일로\n",
    "# x_train_bat\n",
    "# ('mnist_train_batches_fp32.bin')\n",
    "# x_test_batches.numpy().tofile('mnist_test_batches_fp32.bin')\n",
    "\n",
    "# print(\"Binary files have been saved.\")\n",
    "\n"
   ]
  },
  {
   "cell_type": "code",
   "execution_count": 3,
   "metadata": {},
   "outputs": [],
   "source": [
    "import torch\n",
    "A_dim = [4,3,2, 4]\n",
    "B_dim = [3, 4, 5]\n",
    "A_mult = 1\n",
    "B_mult = 1\n",
    "for i in A_dim:\n",
    "    A_mult *= i\n",
    "for i in B_dim:\n",
    "    B_mult *= i\n",
    "\n",
    "\n",
    "A = torch.arange(A_mult).reshape(*A_dim)\n",
    "B = torch.arange(B_mult).reshape(*B_dim)"
   ]
  },
  {
   "cell_type": "code",
   "execution_count": 4,
   "metadata": {},
   "outputs": [
    {
     "data": {
      "text/plain": [
       "tensor([[[[   70,    76,    82,    88,    94],\n",
       "          [  190,   212,   234,   256,   278]],\n",
       "\n",
       "         [[ 1070,  1108,  1146,  1184,  1222],\n",
       "          [ 1510,  1564,  1618,  1672,  1726]],\n",
       "\n",
       "         [[ 3350,  3420,  3490,  3560,  3630],\n",
       "          [ 4110,  4196,  4282,  4368,  4454]]],\n",
       "\n",
       "\n",
       "        [[[  790,   892,   994,  1096,  1198],\n",
       "          [  910,  1028,  1146,  1264,  1382]],\n",
       "\n",
       "         [[ 3710,  3844,  3978,  4112,  4246],\n",
       "          [ 4150,  4300,  4450,  4600,  4750]],\n",
       "\n",
       "         [[ 7910,  8076,  8242,  8408,  8574],\n",
       "          [ 8670,  8852,  9034,  9216,  9398]]],\n",
       "\n",
       "\n",
       "        [[[ 1510,  1708,  1906,  2104,  2302],\n",
       "          [ 1630,  1844,  2058,  2272,  2486]],\n",
       "\n",
       "         [[ 6350,  6580,  6810,  7040,  7270],\n",
       "          [ 6790,  7036,  7282,  7528,  7774]],\n",
       "\n",
       "         [[12470, 12732, 12994, 13256, 13518],\n",
       "          [13230, 13508, 13786, 14064, 14342]]],\n",
       "\n",
       "\n",
       "        [[[ 2230,  2524,  2818,  3112,  3406],\n",
       "          [ 2350,  2660,  2970,  3280,  3590]],\n",
       "\n",
       "         [[ 8990,  9316,  9642,  9968, 10294],\n",
       "          [ 9430,  9772, 10114, 10456, 10798]],\n",
       "\n",
       "         [[17030, 17388, 17746, 18104, 18462],\n",
       "          [17790, 18164, 18538, 18912, 19286]]]])"
      ]
     },
     "execution_count": 4,
     "metadata": {},
     "output_type": "execute_result"
    }
   ],
   "source": [
    "torch.matmul(A, B)"
   ]
  },
  {
   "cell_type": "code",
   "execution_count": 76,
   "metadata": {},
   "outputs": [
    {
     "name": "stdout",
     "output_type": "stream",
     "text": [
      "[5, 0, 0, 0]\n"
     ]
    },
    {
     "data": {
      "text/plain": [
       "30"
      ]
     },
     "execution_count": 76,
     "metadata": {},
     "output_type": "execute_result"
    }
   ],
   "source": [
    "mat_inx = 20\n",
    "\n",
    "dimA = [5, 1, 2, 3]\n",
    "dimB = [4, 3, 2]\n",
    "dimC = [5, 4, 2, 2]\n",
    "strideA = [6, 6, 3, 1]\n",
    "strideB = [6, 2, 1]\n",
    "strideC = [16, 4, 2, 1]\n",
    "\n",
    "inx = mat_inx * strideC[len(strideC)-3]\n",
    "\n",
    "inxA = 0\n",
    "inxB = 0\n",
    "inx_tmp = inx\n",
    "cont = len(strideA) - len(strideB)\n",
    "inxC = 4*[0]\n",
    "\n",
    "for i in range(len(strideA)-2):\n",
    "    inxC[i] = inx_tmp // strideC[i]\n",
    "    if dimA[i] != 1:\n",
    "        inxA += (inx_tmp // strideC[i]) * strideA[i]\n",
    "    inx_tmp %= strideC[i]\n",
    "print(inxC)\n",
    "inxA"
   ]
  },
  {
   "cell_type": "code",
   "execution_count": 108,
   "metadata": {},
   "outputs": [
    {
     "name": "stdout",
     "output_type": "stream",
     "text": [
      "[5, 2, 0, 0]\n"
     ]
    },
    {
     "data": {
      "text/plain": [
       "(30, 12)"
      ]
     },
     "execution_count": 108,
     "metadata": {},
     "output_type": "execute_result"
    }
   ],
   "source": [
    "mat_inx+=1\n",
    "\n",
    "dimA = [5, 1, 2, 3]\n",
    "dimB = [4, 3, 2]\n",
    "dimC = [5, 4, 2, 2]\n",
    "strideA = [6, 6, 3, 1]\n",
    "strideB = [6, 2, 1]\n",
    "strideC = [16, 4, 2, 1]\n",
    "\n",
    "inx = mat_inx * strideC[len(strideC)-3]\n",
    "\n",
    "inxA = 0\n",
    "inxB = 0\n",
    "inx_tmp = inx\n",
    "cont = len(strideA) - len(strideB)\n",
    "\n",
    "inxC = 4*[0]\n",
    "for i in range(cont):\n",
    "    inxC[i] = inx_tmp // strideC[i]\n",
    "    if dimA[i] != 1:\n",
    "        inxA += (inx_tmp // strideC[i]) * strideA[i]\n",
    "    inx_tmp %= strideC[i]\n",
    "\n",
    "for i in range(cont, len(strideA)-2):\n",
    "    inxC[i] = inx_tmp // strideC[i]\n",
    "    if dimA[i] != 1:\n",
    "        inxA += (inx_tmp // strideC[i]) * strideA[i]\n",
    "    if dimB[i-cont] != 1:\n",
    "        inxB += (inx_tmp // strideC[i]) * strideB[i-cont]\n",
    "    inx_tmp %= strideC[i]\n",
    "print(inxC)\n",
    "inxA, inxB"
   ]
  },
  {
   "cell_type": "code",
   "execution_count": 111,
   "metadata": {},
   "outputs": [],
   "source": [
    "import torch\n",
    "A = torch.arange(1*2*3*4).reshape(*dimA)\n",
    "B = torch.arange(4*3*2).reshape(*dimB)"
   ]
  },
  {
   "cell_type": "code",
   "execution_count": 112,
   "metadata": {},
   "outputs": [
    {
     "data": {
      "text/plain": [
       "tensor([[[[  10,   13],\n",
       "          [  28,   40]],\n",
       "\n",
       "         [[  28,   31],\n",
       "          [ 100,  112]],\n",
       "\n",
       "         [[  46,   49],\n",
       "          [ 172,  184]],\n",
       "\n",
       "         [[  64,   67],\n",
       "          [ 244,  256]]],\n",
       "\n",
       "\n",
       "        [[[  46,   67],\n",
       "          [  64,   94]],\n",
       "\n",
       "         [[ 172,  193],\n",
       "          [ 244,  274]],\n",
       "\n",
       "         [[ 298,  319],\n",
       "          [ 424,  454]],\n",
       "\n",
       "         [[ 424,  445],\n",
       "          [ 604,  634]]],\n",
       "\n",
       "\n",
       "        [[[  82,  121],\n",
       "          [ 100,  148]],\n",
       "\n",
       "         [[ 316,  355],\n",
       "          [ 388,  436]],\n",
       "\n",
       "         [[ 550,  589],\n",
       "          [ 676,  724]],\n",
       "\n",
       "         [[ 784,  823],\n",
       "          [ 964, 1012]]],\n",
       "\n",
       "\n",
       "        [[[ 118,  175],\n",
       "          [ 136,  202]],\n",
       "\n",
       "         [[ 460,  517],\n",
       "          [ 532,  598]],\n",
       "\n",
       "         [[ 802,  859],\n",
       "          [ 928,  994]],\n",
       "\n",
       "         [[1144, 1201],\n",
       "          [1324, 1390]]],\n",
       "\n",
       "\n",
       "        [[[ 154,  229],\n",
       "          [ 172,  256]],\n",
       "\n",
       "         [[ 604,  679],\n",
       "          [ 676,  760]],\n",
       "\n",
       "         [[1054, 1129],\n",
       "          [1180, 1264]],\n",
       "\n",
       "         [[1504, 1579],\n",
       "          [1684, 1768]]]])"
      ]
     },
     "execution_count": 112,
     "metadata": {},
     "output_type": "execute_result"
    }
   ],
   "source": [
    "torch.matmul(A, B)"
   ]
  },
  {
   "cell_type": "code",
   "execution_count": null,
   "metadata": {},
   "outputs": [],
   "source": []
  }
 ],
 "metadata": {
  "kernelspec": {
   "display_name": "kkh38",
   "language": "python",
   "name": "python3"
  },
  "language_info": {
   "codemirror_mode": {
    "name": "ipython",
    "version": 3
   },
   "file_extension": ".py",
   "mimetype": "text/x-python",
   "name": "python",
   "nbconvert_exporter": "python",
   "pygments_lexer": "ipython3",
   "version": "3.8.13"
  }
 },
 "nbformat": 4,
 "nbformat_minor": 2
}
