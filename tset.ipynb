{
 "cells": [
  {
   "cell_type": "code",
   "execution_count": 2,
   "metadata": {},
   "outputs": [],
   "source": [
    "# import torch\n",
    "# from torchvision import datasets, transforms\n",
    "\n",
    "# transform = transforms.Compose([transforms.ToTensor()])\n",
    "# train_dataset = datasets.MNIST(root='./data', train=True, download=True, transform=transform)\n",
    "# test_dataset = datasets.MNIST(root='./data', train=False, download=True, transform=transform)\n",
    "\n",
    "# x_train = train_dataset.data.float()\n",
    "# x_test = test_dataset.data.float()\n",
    "\n",
    "# # padding\n",
    "# def pad_batches(data, batch_size):\n",
    "#     pad_size = (-len(data)) % batch_size\n",
    "#     if pad_size > 0:\n",
    "#         data = torch.nn.functional.pad(data, (0, 0, 0, 0, 0, pad_size))\n",
    "#     return data\n",
    "\n",
    "# x_train_padded = pad_batches(x_train, 4)\n",
    "# x_test_padded = pad_batches(x_test, 4)\n",
    "\n",
    "# # batch -> 4\n",
    "# x_train_batches = x_train_padded.view(-1, 4, 28, 28)\n",
    "# x_test_batches = x_test_padded.view(-1, 4, 28, 28)\n",
    "\n",
    "# # 이진 파일로\n",
    "# x_train_bat\n",
    "# ('mnist_train_batches_fp32.bin')\n",
    "# x_test_batches.numpy().tofile('mnist_test_batches_fp32.bin')\n",
    "\n",
    "# print(\"Binary files have been saved.\")\n",
    "\n"
   ]
  },
  {
   "cell_type": "code",
   "execution_count": 7,
   "metadata": {},
   "outputs": [],
   "source": [
    "import torch\n",
    "A = torch.arange(2 * 3 * 4 * 5).reshape(2, 3, 4, 5)\n",
    "B = torch.arange(3 * 4 * 5).reshape(3, 5, 4)"
   ]
  },
  {
   "cell_type": "code",
   "execution_count": 8,
   "metadata": {},
   "outputs": [
    {
     "data": {
      "text/plain": [
       "tensor([[[[  120,   130,   140,   150],\n",
       "          [  320,   355,   390,   425],\n",
       "          [  520,   580,   640,   700],\n",
       "          [  720,   805,   890,   975]],\n",
       "\n",
       "         [[ 3120,  3230,  3340,  3450],\n",
       "          [ 3820,  3955,  4090,  4225],\n",
       "          [ 4520,  4680,  4840,  5000],\n",
       "          [ 5220,  5405,  5590,  5775]],\n",
       "\n",
       "         [[10120, 10330, 10540, 10750],\n",
       "          [11320, 11555, 11790, 12025],\n",
       "          [12520, 12780, 13040, 13300],\n",
       "          [13720, 14005, 14290, 14575]]],\n",
       "\n",
       "\n",
       "        [[[ 2520,  2830,  3140,  3450],\n",
       "          [ 2720,  3055,  3390,  3725],\n",
       "          [ 2920,  3280,  3640,  4000],\n",
       "          [ 3120,  3505,  3890,  4275]],\n",
       "\n",
       "         [[11520, 11930, 12340, 12750],\n",
       "          [12220, 12655, 13090, 13525],\n",
       "          [12920, 13380, 13840, 14300],\n",
       "          [13620, 14105, 14590, 15075]],\n",
       "\n",
       "         [[24520, 25030, 25540, 26050],\n",
       "          [25720, 26255, 26790, 27325],\n",
       "          [26920, 27480, 28040, 28600],\n",
       "          [28120, 28705, 29290, 29875]]]])"
      ]
     },
     "execution_count": 8,
     "metadata": {},
     "output_type": "execute_result"
    }
   ],
   "source": [
    "torch.matmul(A, B)"
   ]
  },
  {
   "cell_type": "code",
   "execution_count": null,
   "metadata": {},
   "outputs": [],
   "source": []
  }
 ],
 "metadata": {
  "kernelspec": {
   "display_name": "kkh38",
   "language": "python",
   "name": "python3"
  },
  "language_info": {
   "codemirror_mode": {
    "name": "ipython",
    "version": 3
   },
   "file_extension": ".py",
   "mimetype": "text/x-python",
   "name": "python",
   "nbconvert_exporter": "python",
   "pygments_lexer": "ipython3",
   "version": "3.8.13"
  }
 },
 "nbformat": 4,
 "nbformat_minor": 2
}
